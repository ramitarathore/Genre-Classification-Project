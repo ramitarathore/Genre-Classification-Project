{
 "cells": [
  {
   "cell_type": "code",
   "execution_count": 1,
   "id": "5d6600c3",
   "metadata": {},
   "outputs": [],
   "source": [
    "%matplotlib inline\n",
    "\n",
    "import os\n",
    "\n",
    "import IPython.display as ipd\n",
    "import numpy as np\n",
    "import pandas as pd\n",
    "import matplotlib.pyplot as plt\n",
    "import seaborn as sns\n",
    "import sklearn as skl\n",
    "import sklearn.utils, sklearn.preprocessing, sklearn.decomposition, sklearn.svm\n",
    "from sklearn.neighbors import KNeighborsClassifier\n",
    "from sklearn.ensemble import RandomForestClassifier\n",
    "from sklearn.metrics import classification_report, confusion_matrix\n",
    "import librosa\n",
    "import librosa.display\n",
    "\n",
    "import utils\n",
    "\n",
    "plt.rcParams['figure.figsize'] = (17, 5)"
   ]
  },
  {
   "cell_type": "code",
   "execution_count": 2,
   "id": "c663a2ce",
   "metadata": {},
   "outputs": [
    {
     "data": {
      "text/plain": [
       "((106574, 52), (163, 4), (106574, 518), (13129, 249))"
      ]
     },
     "execution_count": 2,
     "metadata": {},
     "output_type": "execute_result"
    }
   ],
   "source": [
    "# Directory where mp3 are stored.\n",
    "AUDIO_DIR = os.environ.get('fma_small')\n",
    "\n",
    "# Load metadata and features.\n",
    "tracks = utils.load('fma_metadata/tracks.csv')\n",
    "genres = utils.load('fma_metadata/genres.csv')\n",
    "features = utils.load('fma_metadata/features.csv')\n",
    "echonest = utils.load('fma_metadata/echonest.csv')\n",
    "\n",
    "np.testing.assert_array_equal(features.index, tracks.index)\n",
    "assert echonest.index.isin(tracks.index).all()\n",
    "\n",
    "tracks.shape, genres.shape, features.shape, echonest.shape"
   ]
  },
  {
   "cell_type": "code",
   "execution_count": 3,
   "id": "137bb395",
   "metadata": {},
   "outputs": [
    {
     "name": "stdout",
     "output_type": "stream",
     "text": [
      "6400 training examples, 800 testing examples\n",
      "140 features, 8 classes\n"
     ]
    }
   ],
   "source": [
    "small = tracks['set', 'subset'] <= 'small'\n",
    "\n",
    "train = tracks['set', 'split'] == 'training'\n",
    "val = tracks['set', 'split'] == 'validation'\n",
    "test = tracks['set', 'split'] == 'test'\n",
    "\n",
    "y_train = tracks.loc[small & train, ('track', 'genre_top')]\n",
    "y_test = tracks.loc[small & test, ('track', 'genre_top')]\n",
    "X_train = features.loc[small & train, 'mfcc']\n",
    "X_test = features.loc[small & test, 'mfcc']\n",
    "\n",
    "print('{} training examples, {} testing examples'.format(y_train.size, y_test.size))\n",
    "print('{} features, {} classes'.format(X_train.shape[1], np.unique(y_train).size))"
   ]
  },
  {
   "cell_type": "code",
   "execution_count": null,
   "id": "f6b794a9",
   "metadata": {},
   "outputs": [],
   "source": [
    "# Be sure training samples are shuffled.\n",
    "X_train, y_train = skl.utils.shuffle(X_train, y_train, random_state=42)\n",
    "\n",
    "# Standardize features by removing the mean and scaling to unit variance.\n",
    "scaler = skl.preprocessing.StandardScaler(copy=False)\n",
    "scaler.fit_transform(X_train)\n",
    "scaler.transform(X_test)\n",
    "\n",
    "# Support vector classification.\n",
    "clf = KNeighborsClassifier(n_neighbors=3)\n",
    "clf.fit(X_train, y_train)\n",
    "score = clf.score(X_test, y_test)\n",
    "print('Accuracy: {:.2%}'.format(score))"
   ]
  },
  {
   "cell_type": "markdown",
   "id": "9fb37b63-4c2e-4bff-988f-c12b688aa3ec",
   "metadata": {},
   "source": [
    "Fundamentals of Data Science - Final Project \n",
    "Code written in this file is taken from the class powerpoint \"9A - Decision Trees in Python\" on iCollege. "
   ]
  },
  {
   "cell_type": "code",
   "execution_count": null,
   "id": "5a760f41-5cef-44ac-9afe-0bc0140928e6",
   "metadata": {},
   "outputs": [],
   "source": [
    "'''\n",
    "All the code below is taken from and referenced from the class \n",
    "powerpoint \"9A - Decision Trees in Python\" on iCollege. \n",
    "\n",
    "'''\n",
    "\n",
    "import pandas as pd\n",
    "import seaborn as sns\n",
    "import matplotlib.plot as plt\n",
    "\n",
    "# reading the tracks file\n",
    "readTracks = pd.read_csv(\"tracks.csv\", sep=\",\")\n",
    "print(readTracks.head())\n",
    "print(readTracks.shape)\n",
    "\n",
    "# reading the genres file\n",
    "readGenre = pd.read_csv(\"genres.csv\", sep=\",\")\n",
    "print(readGenre.head())\n",
    "print(readGenre.shape)\n",
    "\n",
    "# reading the features file\n",
    "readFeatures = pd.read_csv(\"features.csv\", sep=\",\")\n",
    "print(readFeatures.head())\n",
    "print(readFeatures.shape)\n",
    "\n",
    "# counting the number of features\n",
    "numFeatures = readFeatures[''].value_counts().plot(kind = \"bar\")\n",
    "print(\"The number of features are = \" + str(numFeatures))\n",
    "\n",
    "# plotting the histogram for the features\n",
    "readFeatures[\"chroma_cens\"].plot.hist(bins = 10)\n",
    "readFeatures[\"chroma_cqt\"].plot.hist(bins = 10)\n",
    "readFeatures[\"chroma_stft\"].plot.hist(bins = 10)\n",
    "readFeatures[\"mfcc\"].plot.hist(bins = 10)\n",
    "readFeatures[\"rmse\"].plot.hist(bins = 10)\n",
    "readFeatures[\"spectral_bandwidth\"].plot.hist(bins = 10)\n",
    "readFeatures[\"spectral_centroid\"].plot.hist(bins = 10)\n",
    "readFeatures[\"spectral_contrast\"].plot.hist(bins = 10)\n",
    "readFeatures[\"spectral_rolloff\"].plot.hist(bins = 10)\n",
    "readFeatures[\"tonnetz\"].plot.hist(bins = 10)\n",
    "readFeatures[\"zcr\"].plot.hist(bins = 10)\n",
    "\n",
    "# using seaborn to make a pairplot for our features \n",
    "sns.set(style='whitegrid', context ='notebook')\n",
    "cols = [\"chroma_cens\", \"chroma_cqt\", \"chroma_stft\", \"mfcc\", \"rmse\", \"spectral_bandwidth\",\n",
    "        \"spectral_centroid\", \"spectral_contrast\", \"spectral_rolloff\", \"tonnetz\", \"zcr\"]\n",
    "sns.pairplot(readFeatures, hue=\"TrainingClass\", height=2.0);\n",
    "plt.show()\n"
   ]
  }
 ],
 "metadata": {
  "kernelspec": {
   "display_name": "Python 3 (ipykernel)",
   "language": "python",
   "name": "python3"
  },
  "language_info": {
   "codemirror_mode": {
    "name": "ipython",
    "version": 3
   },
   "file_extension": ".py",
   "mimetype": "text/x-python",
   "name": "python",
   "nbconvert_exporter": "python",
   "pygments_lexer": "ipython3",
   "version": "3.11.4"
  }
 },
 "nbformat": 4,
 "nbformat_minor": 5
}
